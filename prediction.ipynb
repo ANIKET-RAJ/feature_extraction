{
 "cells": [
  {
   "cell_type": "code",
   "execution_count": 2,
   "metadata": {},
   "outputs": [
    {
     "name": "stderr",
     "output_type": "stream",
     "text": [
      "C:\\Users\\ANIKET RAJ\\Anaconda3\\lib\\site-packages\\sklearn\\cross_validation.py:41: DeprecationWarning: This module was deprecated in version 0.18 in favor of the model_selection module into which all the refactored classes and functions are moved. Also note that the interface of the new CV iterators are different from that of this module. This module will be removed in 0.20.\n",
      "  \"This module will be removed in 0.20.\", DeprecationWarning)\n"
     ]
    }
   ],
   "source": [
    "from matplotlib import pyplot as plt\n",
    "from skimage import data\n",
    "from skimage.feature import blob_dog, blob_log, blob_doh\n",
    "from math import sqrt\n",
    "from skimage.color import rgb2gray\n",
    "import glob\n",
    "from skimage.io import imread\n",
    "import pandas as pd\n",
    "import numpy as np\n",
    "from pandas import DataFrame\n",
    "from sklearn import preprocessing\n",
    "from matplotlib import style\n",
    "from sklearn.cross_validation import train_test_split\n",
    "from sklearn.neighbors import KNeighborsClassifier"
   ]
  },
  {
   "cell_type": "code",
   "execution_count": 3,
   "metadata": {},
   "outputs": [
    {
     "data": {
      "text/plain": [
       "<bound method NDFrame.head of           name  LoG Value  DoG Value  DoH Value  label\n",
       "0     n001.tif        120        373          0      1\n",
       "1     n002.tif         96        405          0      1\n",
       "2     n003.tif        153        305          0      1\n",
       "3     n004.tif        303        446          0      1\n",
       "4     n005.tif        220        495          0      1\n",
       "5     n006.tif        200        429          0      1\n",
       "6     n007.tif        330        472          0      1\n",
       "7     n008.tif         94        385          0      1\n",
       "8     n009.tif        124        421          0      1\n",
       "9     n010.tif        207        475          0      1\n",
       "10    n011.tif         64        437          0      1\n",
       "11    n012.tif         92        441          0      1\n",
       "12    n013.tif         96        476          0      1\n",
       "13    n014.tif        203        440          0      1\n",
       "14    n015.tif        359        467          0      1\n",
       "15    n016.tif        327        457          0      1\n",
       "16    n017.tif        102        326          0      1\n",
       "17    n018.tif        138        437          0      1\n",
       "18    n019.tif        129        469          0      1\n",
       "19    n020.tif        164        416          0      1\n",
       "20    n021.tif        232        448          0      1\n",
       "21    n022.tif        112        491          0      1\n",
       "22    n023.tif         87        421          0      1\n",
       "23    n024.tif         71        416          0      1\n",
       "24    n025.tif         79        377          0      1\n",
       "25    n026.tif          2        286          0      1\n",
       "26    n027.tif         20        383          0      1\n",
       "27    n028.tif         15        358          0      1\n",
       "28    n029.tif        311        439          0      1\n",
       "29    n030.tif         15        347          0      1\n",
       "..         ...        ...        ...        ...    ...\n",
       "370  is071.tif        119        487          0      3\n",
       "371  is072.tif        190        479          0      3\n",
       "372  is073.tif         26        448          0      3\n",
       "373  is074.tif         13        406          0      3\n",
       "374  is075.tif        446        538          0      3\n",
       "375  is076.tif        352        543          0      3\n",
       "376  is077.tif        280        540          0      3\n",
       "377  is078.tif        260        540          0      3\n",
       "378  is079.tif        192        553          0      3\n",
       "379  is080.tif        412        521          0      3\n",
       "380  is081.tif         81        285          0      3\n",
       "381  is082.tif        243        451          0      3\n",
       "382  is083.tif        137        368          0      3\n",
       "383  is084.tif        261        446          0      3\n",
       "384  is085.tif        491        575          0      3\n",
       "385  is086.tif         91        294          0      3\n",
       "386  is087.tif        427        650          0      3\n",
       "387  is088.tif        411        555          0      3\n",
       "388  is089.tif        292        538          0      3\n",
       "389  is090.tif        168        477          0      3\n",
       "390  is091.tif        293        494          0      3\n",
       "391  is092.tif        251        445          0      3\n",
       "392  is093.tif        318        536          0      3\n",
       "393  is094.tif        217        381          0      3\n",
       "394  is095.tif        320        523          0      3\n",
       "395  is096.tif        312        517          0      3\n",
       "396  is097.tif        406        528          0      3\n",
       "397  is098.tif        258        551          0      3\n",
       "398  is099.tif        108        340          0      3\n",
       "399  is100.tif        366        619          0      3\n",
       "\n",
       "[400 rows x 5 columns]>"
      ]
     },
     "execution_count": 3,
     "metadata": {},
     "output_type": "execute_result"
    }
   ],
   "source": [
    "#style.use('ggplot')\n",
    "xf = pd.read_excel('C:/Users/ANIKET RAJ/Desktop/ICIAR2018/result.xlsx')\n",
    "df=pd.DataFrame(xf)\n",
    "df.head"
   ]
  },
  {
   "cell_type": "code",
   "execution_count": 4,
   "metadata": {
    "collapsed": true
   },
   "outputs": [],
   "source": [
    "X=np.array(df['LoG Value'],df['DoG Value'])\n",
    "y=np.array(df['label'])\n",
    "X=X.reshape(-1,1)\n",
    "y=y.reshape(-1,1)"
   ]
  },
  {
   "cell_type": "code",
   "execution_count": 5,
   "metadata": {
    "scrolled": true
   },
   "outputs": [
    {
     "name": "stdout",
     "output_type": "stream",
     "text": [
      "0.3\n"
     ]
    },
    {
     "name": "stderr",
     "output_type": "stream",
     "text": [
      "C:\\Users\\ANIKET RAJ\\Anaconda3\\lib\\site-packages\\ipykernel_launcher.py:3: DataConversionWarning: A column-vector y was passed when a 1d array was expected. Please change the shape of y to (n_samples, ), for example using ravel().\n",
      "  This is separate from the ipykernel package so we can avoid doing imports until\n"
     ]
    }
   ],
   "source": [
    "X_train,X_test,y_train,y_test=train_test_split(X,y)\n",
    "knn=KNeighborsClassifier(n_neighbors=2)\n",
    "knn.fit(X_train,y_train)\n",
    "y_pred=knn.predict(X_test)\n",
    "print(knn.score(y_test,y_pred))"
   ]
  },
  {
   "cell_type": "code",
   "execution_count": null,
   "metadata": {
    "collapsed": true
   },
   "outputs": [],
   "source": []
  },
  {
   "cell_type": "code",
   "execution_count": null,
   "metadata": {
    "collapsed": true
   },
   "outputs": [],
   "source": []
  }
 ],
 "metadata": {
  "kernelspec": {
   "display_name": "Python 3",
   "language": "python",
   "name": "python3"
  },
  "language_info": {
   "codemirror_mode": {
    "name": "ipython",
    "version": 3
   },
   "file_extension": ".py",
   "mimetype": "text/x-python",
   "name": "python",
   "nbconvert_exporter": "python",
   "pygments_lexer": "ipython3",
   "version": "3.6.3"
  }
 },
 "nbformat": 4,
 "nbformat_minor": 2
}
