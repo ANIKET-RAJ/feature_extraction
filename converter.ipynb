{
 "cells": [
  {
   "cell_type": "code",
   "execution_count": 1,
   "metadata": {
    "collapsed": true
   },
   "outputs": [],
   "source": [
    "########importing libraries #################\n",
    "import numpy as np\n",
    "import cv2\n",
    "import glob"
   ]
  },
  {
   "cell_type": "code",
   "execution_count": 2,
   "metadata": {
    "collapsed": true
   },
   "outputs": [],
   "source": [
    "location_of_files='test/*.tif'\n",
    "fileList = glob.glob(location_of_files)"
   ]
  },
  {
   "cell_type": "code",
   "execution_count": 4,
   "metadata": {
    "collapsed": true
   },
   "outputs": [],
   "source": [
    "for i in fileList:\n",
    "    im = cv2.imread(i)\n",
    "    imgray = cv2.cvtColor(im, cv2.COLOR_BGR2LAB)\n",
    "    maxValue = 255\n",
    "    thresh= 80\n",
    "    th,dst = cv2.threshold(im,thresh, maxValue, cv2.THRESH_BINARY_INV)\n",
    "    imgrey = cv2.cvtColor(dst, cv2.COLOR_BGR2GRAY)\n",
    "    ret, thresh = cv2.threshold(imgrey, 127, 255, 0)\n",
    "    im2, contours, hierarchy = cv2.findContours(thresh, cv2.RETR_TREE, cv2.CHAIN_APPROX_SIMPLE)\n",
    "    #cv2.drawContours(dst, contours, -1, (0,255,0), 3)\n",
    "    cv2.imwrite(i,im2)"
   ]
  },
  {
   "cell_type": "code",
   "execution_count": null,
   "metadata": {
    "collapsed": true
   },
   "outputs": [],
   "source": []
  }
 ],
 "metadata": {
  "kernelspec": {
   "display_name": "Python 3",
   "language": "python",
   "name": "python3"
  },
  "language_info": {
   "codemirror_mode": {
    "name": "ipython",
    "version": 3
   },
   "file_extension": ".py",
   "mimetype": "text/x-python",
   "name": "python",
   "nbconvert_exporter": "python",
   "pygments_lexer": "ipython3",
   "version": "3.6.3"
  }
 },
 "nbformat": 4,
 "nbformat_minor": 2
}
