{
 "cells": [
  {
   "cell_type": "code",
   "execution_count": 1,
   "metadata": {
    "collapsed": true
   },
   "outputs": [],
   "source": [
    "########importing libraries #################\n",
    "import numpy as np\n",
    "import cv2\n",
    "from matplotlib import pyplot as plt\n",
    "import glob\n",
    "import pandas as pd"
   ]
  },
  {
   "cell_type": "code",
   "execution_count": 13,
   "metadata": {},
   "outputs": [
    {
     "data": {
      "text/plain": [
       "True"
      ]
     },
     "execution_count": 13,
     "metadata": {},
     "output_type": "execute_result"
    }
   ],
   "source": [
    "i='b001.tif'\n",
    "im = cv2.imread(i)\n",
    "#imgray = cv2.cvtColor(im, cv2.COLOR_BGR2LAB)\n",
    "maxValue = 255\n",
    "thresh= 80\n",
    "#th,dst = cv2.threshold(im,thresh, maxValue, cv2.THRESH_BINARY_INV)\n",
    "imgrey = cv2.cvtColor(dst, cv2.COLOR_BGR2GRAY)\n",
    "ret, thresh = cv2.threshold(imgrey, 127, 255,cv2.THRESH_BINARY)\n",
    "#im2, contours, hierarchy = cv2.findContours(thresh, cv2.RETR_TREE, cv2.CHAIN_APPROX_SIMPLE)\n",
    "    #cv2.drawContours(dst, contours, -1, (0,255,0), 3)\n",
    "cv2.imwrite('my2.png',imgrey)\n",
    "        \n",
    "        \n",
    "   "
   ]
  },
  {
   "cell_type": "code",
   "execution_count": null,
   "metadata": {
    "collapsed": true
   },
   "outputs": [],
   "source": []
  }
 ],
 "metadata": {
  "kernelspec": {
   "display_name": "Python 3",
   "language": "python",
   "name": "python3"
  },
  "language_info": {
   "codemirror_mode": {
    "name": "ipython",
    "version": 3
   },
   "file_extension": ".py",
   "mimetype": "text/x-python",
   "name": "python",
   "nbconvert_exporter": "python",
   "pygments_lexer": "ipython3",
   "version": "3.6.3"
  }
 },
 "nbformat": 4,
 "nbformat_minor": 2
}
